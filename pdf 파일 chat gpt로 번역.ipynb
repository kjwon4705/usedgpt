{
 "cells": [
  {
   "cell_type": "code",
   "execution_count": 1,
   "id": "52cb2a85",
   "metadata": {},
   "outputs": [
    {
     "name": "stdout",
     "output_type": "stream",
     "text": [
      "Requirement already satisfied: google-cloud-translate in c:\\users\\user\\anaconda3\\lib\\site-packages (3.11.1)\n",
      "Requirement already satisfied: protobuf!=3.20.0,!=3.20.1,!=4.21.0,!=4.21.1,!=4.21.2,!=4.21.3,!=4.21.4,!=4.21.5,<5.0.0dev,>=3.19.5 in c:\\users\\user\\anaconda3\\lib\\site-packages (from google-cloud-translate) (4.23.1)\n",
      "Requirement already satisfied: google-cloud-core<3.0.0dev,>=1.3.0 in c:\\users\\user\\anaconda3\\lib\\site-packages (from google-cloud-translate) (2.3.2)\n",
      "Requirement already satisfied: proto-plus<2.0.0dev,>=1.22.0 in c:\\users\\user\\anaconda3\\lib\\site-packages (from google-cloud-translate) (1.22.2)\n",
      "Requirement already satisfied: google-api-core[grpc]!=2.0.*,!=2.1.*,!=2.10.*,!=2.2.*,!=2.3.*,!=2.4.*,!=2.5.*,!=2.6.*,!=2.7.*,!=2.8.*,!=2.9.*,<3.0.0dev,>=1.34.0 in c:\\users\\user\\anaconda3\\lib\\site-packages (from google-cloud-translate) (2.11.0)\n",
      "Requirement already satisfied: google-auth<3.0dev,>=2.14.1 in c:\\users\\user\\anaconda3\\lib\\site-packages (from google-api-core[grpc]!=2.0.*,!=2.1.*,!=2.10.*,!=2.2.*,!=2.3.*,!=2.4.*,!=2.5.*,!=2.6.*,!=2.7.*,!=2.8.*,!=2.9.*,<3.0.0dev,>=1.34.0->google-cloud-translate) (2.18.1)\n",
      "Requirement already satisfied: googleapis-common-protos<2.0dev,>=1.56.2 in c:\\users\\user\\anaconda3\\lib\\site-packages (from google-api-core[grpc]!=2.0.*,!=2.1.*,!=2.10.*,!=2.2.*,!=2.3.*,!=2.4.*,!=2.5.*,!=2.6.*,!=2.7.*,!=2.8.*,!=2.9.*,<3.0.0dev,>=1.34.0->google-cloud-translate) (1.59.0)\n",
      "Requirement already satisfied: requests<3.0.0dev,>=2.18.0 in c:\\users\\user\\anaconda3\\lib\\site-packages (from google-api-core[grpc]!=2.0.*,!=2.1.*,!=2.10.*,!=2.2.*,!=2.3.*,!=2.4.*,!=2.5.*,!=2.6.*,!=2.7.*,!=2.8.*,!=2.9.*,<3.0.0dev,>=1.34.0->google-cloud-translate) (2.25.1)\n",
      "Requirement already satisfied: grpcio<2.0dev,>=1.33.2 in c:\\users\\user\\anaconda3\\lib\\site-packages (from google-api-core[grpc]!=2.0.*,!=2.1.*,!=2.10.*,!=2.2.*,!=2.3.*,!=2.4.*,!=2.5.*,!=2.6.*,!=2.7.*,!=2.8.*,!=2.9.*,<3.0.0dev,>=1.34.0->google-cloud-translate) (1.54.2)\n",
      "Requirement already satisfied: grpcio-status<2.0dev,>=1.33.2 in c:\\users\\user\\anaconda3\\lib\\site-packages (from google-api-core[grpc]!=2.0.*,!=2.1.*,!=2.10.*,!=2.2.*,!=2.3.*,!=2.4.*,!=2.5.*,!=2.6.*,!=2.7.*,!=2.8.*,!=2.9.*,<3.0.0dev,>=1.34.0->google-cloud-translate) (1.54.2)\n",
      "Requirement already satisfied: cachetools<6.0,>=2.0.0 in c:\\users\\user\\anaconda3\\lib\\site-packages (from google-auth<3.0dev,>=2.14.1->google-api-core[grpc]!=2.0.*,!=2.1.*,!=2.10.*,!=2.2.*,!=2.3.*,!=2.4.*,!=2.5.*,!=2.6.*,!=2.7.*,!=2.8.*,!=2.9.*,<3.0.0dev,>=1.34.0->google-cloud-translate) (5.2.0)\n",
      "Requirement already satisfied: pyasn1-modules>=0.2.1 in c:\\users\\user\\anaconda3\\lib\\site-packages (from google-auth<3.0dev,>=2.14.1->google-api-core[grpc]!=2.0.*,!=2.1.*,!=2.10.*,!=2.2.*,!=2.3.*,!=2.4.*,!=2.5.*,!=2.6.*,!=2.7.*,!=2.8.*,!=2.9.*,<3.0.0dev,>=1.34.0->google-cloud-translate) (0.2.8)\n",
      "Requirement already satisfied: urllib3<2.0 in c:\\users\\user\\anaconda3\\lib\\site-packages (from google-auth<3.0dev,>=2.14.1->google-api-core[grpc]!=2.0.*,!=2.1.*,!=2.10.*,!=2.2.*,!=2.3.*,!=2.4.*,!=2.5.*,!=2.6.*,!=2.7.*,!=2.8.*,!=2.9.*,<3.0.0dev,>=1.34.0->google-cloud-translate) (1.26.4)\n",
      "Requirement already satisfied: rsa<5,>=3.1.4 in c:\\users\\user\\anaconda3\\lib\\site-packages (from google-auth<3.0dev,>=2.14.1->google-api-core[grpc]!=2.0.*,!=2.1.*,!=2.10.*,!=2.2.*,!=2.3.*,!=2.4.*,!=2.5.*,!=2.6.*,!=2.7.*,!=2.8.*,!=2.9.*,<3.0.0dev,>=1.34.0->google-cloud-translate) (4.8)\n",
      "Requirement already satisfied: six>=1.9.0 in c:\\users\\user\\anaconda3\\lib\\site-packages (from google-auth<3.0dev,>=2.14.1->google-api-core[grpc]!=2.0.*,!=2.1.*,!=2.10.*,!=2.2.*,!=2.3.*,!=2.4.*,!=2.5.*,!=2.6.*,!=2.7.*,!=2.8.*,!=2.9.*,<3.0.0dev,>=1.34.0->google-cloud-translate) (1.15.0)\n",
      "Requirement already satisfied: pyasn1<0.5.0,>=0.4.6 in c:\\users\\user\\anaconda3\\lib\\site-packages (from pyasn1-modules>=0.2.1->google-auth<3.0dev,>=2.14.1->google-api-core[grpc]!=2.0.*,!=2.1.*,!=2.10.*,!=2.2.*,!=2.3.*,!=2.4.*,!=2.5.*,!=2.6.*,!=2.7.*,!=2.8.*,!=2.9.*,<3.0.0dev,>=1.34.0->google-cloud-translate) (0.4.8)\n",
      "Requirement already satisfied: certifi>=2017.4.17 in c:\\users\\user\\anaconda3\\lib\\site-packages (from requests<3.0.0dev,>=2.18.0->google-api-core[grpc]!=2.0.*,!=2.1.*,!=2.10.*,!=2.2.*,!=2.3.*,!=2.4.*,!=2.5.*,!=2.6.*,!=2.7.*,!=2.8.*,!=2.9.*,<3.0.0dev,>=1.34.0->google-cloud-translate) (2020.12.5)\n",
      "Requirement already satisfied: chardet<5,>=3.0.2 in c:\\users\\user\\anaconda3\\lib\\site-packages (from requests<3.0.0dev,>=2.18.0->google-api-core[grpc]!=2.0.*,!=2.1.*,!=2.10.*,!=2.2.*,!=2.3.*,!=2.4.*,!=2.5.*,!=2.6.*,!=2.7.*,!=2.8.*,!=2.9.*,<3.0.0dev,>=1.34.0->google-cloud-translate) (4.0.0)\n",
      "Requirement already satisfied: idna<3,>=2.5 in c:\\users\\user\\anaconda3\\lib\\site-packages (from requests<3.0.0dev,>=2.18.0->google-api-core[grpc]!=2.0.*,!=2.1.*,!=2.10.*,!=2.2.*,!=2.3.*,!=2.4.*,!=2.5.*,!=2.6.*,!=2.7.*,!=2.8.*,!=2.9.*,<3.0.0dev,>=1.34.0->google-cloud-translate) (2.10)\n",
      "Note: you may need to restart the kernel to use updated packages.\n"
     ]
    }
   ],
   "source": [
    "pip install google-cloud-translate"
   ]
  },
  {
   "cell_type": "code",
   "execution_count": 2,
   "id": "e2f623a2",
   "metadata": {},
   "outputs": [
    {
     "name": "stdout",
     "output_type": "stream",
     "text": [
      "Requirement already satisfied: pdfminer.six in c:\\users\\user\\anaconda3\\lib\\site-packages (20221105)\n",
      "Requirement already satisfied: cryptography>=36.0.0 in c:\\users\\user\\anaconda3\\lib\\site-packages (from pdfminer.six) (40.0.2)\n",
      "Requirement already satisfied: charset-normalizer>=2.0.0 in c:\\users\\user\\anaconda3\\lib\\site-packages (from pdfminer.six) (3.1.0)\n",
      "Requirement already satisfied: cffi>=1.12 in c:\\users\\user\\anaconda3\\lib\\site-packages (from cryptography>=36.0.0->pdfminer.six) (1.14.5)\n",
      "Requirement already satisfied: pycparser in c:\\users\\user\\anaconda3\\lib\\site-packages (from cffi>=1.12->cryptography>=36.0.0->pdfminer.six) (2.20)\n",
      "Note: you may need to restart the kernel to use updated packages.\n"
     ]
    }
   ],
   "source": [
    "pip install pdfminer.six"
   ]
  },
  {
   "cell_type": "code",
   "execution_count": 3,
   "id": "7ce5bc69",
   "metadata": {},
   "outputs": [
    {
     "name": "stdout",
     "output_type": "stream",
     "text": [
      "Requirement already satisfied: pdfplumber in c:\\users\\user\\anaconda3\\lib\\site-packages (0.9.0)\n",
      "Requirement already satisfied: Pillow>=9.1 in c:\\users\\user\\anaconda3\\lib\\site-packages (from pdfplumber) (9.5.0)\n",
      "Requirement already satisfied: pdfminer.six==20221105 in c:\\users\\user\\anaconda3\\lib\\site-packages (from pdfplumber) (20221105)\n",
      "Requirement already satisfied: Wand>=0.6.10 in c:\\users\\user\\anaconda3\\lib\\site-packages (from pdfplumber) (0.6.11)\n",
      "Requirement already satisfied: charset-normalizer>=2.0.0 in c:\\users\\user\\anaconda3\\lib\\site-packages (from pdfminer.six==20221105->pdfplumber) (3.1.0)\n",
      "Requirement already satisfied: cryptography>=36.0.0 in c:\\users\\user\\anaconda3\\lib\\site-packages (from pdfminer.six==20221105->pdfplumber) (40.0.2)\n",
      "Requirement already satisfied: cffi>=1.12 in c:\\users\\user\\anaconda3\\lib\\site-packages (from cryptography>=36.0.0->pdfminer.six==20221105->pdfplumber) (1.14.5)\n",
      "Requirement already satisfied: pycparser in c:\\users\\user\\anaconda3\\lib\\site-packages (from cffi>=1.12->cryptography>=36.0.0->pdfminer.six==20221105->pdfplumber) (2.20)\n",
      "Note: you may need to restart the kernel to use updated packages.\n"
     ]
    }
   ],
   "source": [
    "pip install pdfplumber"
   ]
  },
  {
   "cell_type": "code",
   "execution_count": 4,
   "id": "e73cf9b4",
   "metadata": {},
   "outputs": [
    {
     "name": "stdout",
     "output_type": "stream",
     "text": [
      "Requirement already satisfied: PyPDF2 in c:\\users\\user\\anaconda3\\lib\\site-packages (3.0.1)\n",
      "Requirement already satisfied: typing_extensions>=3.10.0.0 in c:\\users\\user\\anaconda3\\lib\\site-packages (from PyPDF2) (4.6.2)\n",
      "Note: you may need to restart the kernel to use updated packages.\n"
     ]
    }
   ],
   "source": [
    "pip install PyPDF2"
   ]
  },
  {
   "cell_type": "code",
   "execution_count": 5,
   "id": "aaf22dd5",
   "metadata": {},
   "outputs": [
    {
     "name": "stdout",
     "output_type": "stream",
     "text": [
      "Requirement already satisfied: openai in c:\\users\\user\\anaconda3\\lib\\site-packages (0.27.7)\n",
      "Requirement already satisfied: aiohttp in c:\\users\\user\\anaconda3\\lib\\site-packages (from openai) (3.8.4)\n",
      "Requirement already satisfied: tqdm in c:\\users\\user\\anaconda3\\lib\\site-packages (from openai) (4.59.0)\n",
      "Requirement already satisfied: requests>=2.20 in c:\\users\\user\\anaconda3\\lib\\site-packages (from openai) (2.25.1)\n",
      "Requirement already satisfied: idna<3,>=2.5 in c:\\users\\user\\anaconda3\\lib\\site-packages (from requests>=2.20->openai) (2.10)\n",
      "Requirement already satisfied: urllib3<1.27,>=1.21.1 in c:\\users\\user\\anaconda3\\lib\\site-packages (from requests>=2.20->openai) (1.26.4)\n",
      "Requirement already satisfied: chardet<5,>=3.0.2 in c:\\users\\user\\anaconda3\\lib\\site-packages (from requests>=2.20->openai) (4.0.0)\n",
      "Requirement already satisfied: certifi>=2017.4.17 in c:\\users\\user\\anaconda3\\lib\\site-packages (from requests>=2.20->openai) (2020.12.5)\n",
      "Requirement already satisfied: frozenlist>=1.1.1 in c:\\users\\user\\anaconda3\\lib\\site-packages (from aiohttp->openai) (1.3.3)\n",
      "Requirement already satisfied: charset-normalizer<4.0,>=2.0 in c:\\users\\user\\anaconda3\\lib\\site-packages (from aiohttp->openai) (3.1.0)\n",
      "Requirement already satisfied: multidict<7.0,>=4.5 in c:\\users\\user\\anaconda3\\lib\\site-packages (from aiohttp->openai) (6.0.4)\n",
      "Requirement already satisfied: attrs>=17.3.0 in c:\\users\\user\\anaconda3\\lib\\site-packages (from aiohttp->openai) (20.3.0)\n",
      "Requirement already satisfied: aiosignal>=1.1.2 in c:\\users\\user\\anaconda3\\lib\\site-packages (from aiohttp->openai) (1.3.1)\n",
      "Requirement already satisfied: async-timeout<5.0,>=4.0.0a3 in c:\\users\\user\\anaconda3\\lib\\site-packages (from aiohttp->openai) (4.0.2)\n",
      "Requirement already satisfied: yarl<2.0,>=1.0 in c:\\users\\user\\anaconda3\\lib\\site-packages (from aiohttp->openai) (1.9.2)\n",
      "Note: you may need to restart the kernel to use updated packages.\n"
     ]
    }
   ],
   "source": [
    "pip install openai"
   ]
  },
  {
   "cell_type": "code",
   "execution_count": 2,
   "id": "6e4044fc",
   "metadata": {},
   "outputs": [],
   "source": [
    "import openai\n",
    "import os\n",
    "import requests\n",
    "from google.cloud import translate_v2 as translate\n",
    "from pdfminer.high_level import extract_text\n",
    "import pdfplumber\n",
    "import PyPDF2\n",
    "import os\n",
    "from google.cloud import translate_v2 as translate\n",
    "from pdfminer.high_level import extract_text"
   ]
  },
  {
   "cell_type": "code",
   "execution_count": 5,
   "id": "c4e78857",
   "metadata": {},
   "outputs": [],
   "source": [
    "import numpy as np"
   ]
  },
  {
   "cell_type": "code",
   "execution_count": 6,
   "id": "635944ac",
   "metadata": {},
   "outputs": [],
   "source": [
    "def extract_text_from_page(file_path, page_number):\n",
    "    with open(file_path, 'rb') as file:\n",
    "        reader = PyPDF2.PdfReader(file)\n",
    "        page = reader.pages[page_number]\n",
    "        text = page.extract_text()\n",
    "    return text\n",
    "\n",
    "# 사용 예시\n",
    "pdf_file_path = 'deeplearning.pdf'\n",
    "page_number = 0  # 추출할 페이지 번호 (0부터 시작)\n",
    "\n",
    "book = np.array([])\n",
    "\n",
    "\n",
    "for num in range(14,160):\n",
    "    text = extract_text_from_page(pdf_file_path, num)\n",
    "    with open('page_text.txt', 'w', encoding='utf-8') as output_file:\n",
    "        output_file.write(text)\n",
    "    book = np.append(book, [text])\n",
    "\n"
   ]
  },
  {
   "cell_type": "code",
   "execution_count": 9,
   "id": "a8b756d2",
   "metadata": {
    "scrolled": true
   },
   "outputs": [
    {
     "name": "stdout",
     "output_type": "stream",
     "text": [
      "번역해줘\n",
      "영어: a\n",
      "한국어: \n",
      "그림에 관한 말을 모두 지워줘 \n",
      " 머신러닝을 처음 공부하는 사람수준으로 번역해줘 \n"
     ]
    }
   ],
   "source": [
    "part= 'a'\n",
    "print(f\"머신러닝을 처음 공부하는 사람수준 번역해줘\\n영어: {part}\\n한국어: \" )"
   ]
  },
  {
   "cell_type": "code",
   "execution_count": 14,
   "id": "861b7343",
   "metadata": {},
   "outputs": [
    {
     "data": {
      "text/plain": [
       "'Chapter 1 ■ MaChine Learning\\n3Training Data\\nMachine Learning\\nModel\\nFigure 1-2. What happens during the machine learning process\\nNow, let’s resume our discussion about the model. Actually, the model is \\nnothing more than what we want to achieve as the final product. For instance, if \\nwe are developing an auto-filtering system to remove spam mail, the spam mail filter is the model that we are talking about. In this sense, we can say the model is what we actually use. Some call the model a hypothesis. This term seems more intuitive to those with statistical backgrounds.\\nMachine Learning is not the only modeling technique. In the field of \\ndynamics, people have been using a certain modeling technique, which employs Newton’s laws and describes the motion of objects as a series of equations called equations of motion, for a long time. In the field of Artificial Intelligence, we have the expert system, which is a problem-solving model that is based on the knowledge and know-how of the experts. The model works as well as the experts themselves.\\nHowever, there are some areas where laws and logical reasoning are not \\nvery useful for modeling. Typical problems can be found where intelligence is involved, such as image recognition, speech recognition, and natural language processing. Let me give you an example. Look at Figure\\xa01-3 and identify the numbers.'"
      ]
     },
     "execution_count": 14,
     "metadata": {},
     "output_type": "execute_result"
    }
   ],
   "source": [
    "book[1]"
   ]
  },
  {
   "cell_type": "code",
   "execution_count": 21,
   "id": "90e878ba",
   "metadata": {},
   "outputs": [],
   "source": [
    "openai.api_key = 'your key'\n",
    "\n",
    "def translate_text_with_gpt(text, target_language):\n",
    "    # 텍스트를 문장 또는 단락으로 분할\n",
    "    parts = text.split('. ')\n",
    "    translated_parts = []\n",
    "\n",
    "    # 각 부분을 번역하고 번역된 결과를 저장\n",
    "    for part in parts:\n",
    "        prompt = f\" 그림과 관련된 말은 모두 제거하고 머신러닝을 처음 공부하는 입장에서 번역해줘\\n영어: {part}\\n한국어: \"\n",
    "        response = openai.Completion.create(\n",
    "            model='text-davinci-003',\n",
    "            prompt=prompt,\n",
    "            max_tokens=100,\n",
    "            temperature=0.7,\n",
    "            n=1,\n",
    "            stop=None\n",
    "        )\n",
    "        translated_part = response.choices[0].text.strip()\n",
    "        translated_parts.append(translated_part)\n",
    "\n",
    "    # 번역된 부분을 합쳐 전체 텍스트를 구성\n",
    "    translated_text = '. '.join(translated_parts)\n",
    "    return translated_text\n",
    "\n",
    "# 사용 예시\n",
    "text_to_translate = book[1]\n",
    "target_language = 'ko'\n",
    "\n",
    "translated_text = translate_text_with_gpt(text_to_translate, target_language)\n",
    "translated_text = translated_text.replace('\\n', '')"
   ]
  },
  {
   "cell_type": "code",
   "execution_count": 22,
   "id": "7f3c3d65",
   "metadata": {},
   "outputs": [
    {
     "data": {
      "text/plain": [
       "'1장 ■ 머신 러닝3 학습 데이터머신 러닝모델1-2 그림. 기계학습 과정에서 무엇이 일어나는가이제 모델에 관한 논의를 다시 이어가주세요. 결국 모델은 우리가 마지막 제품으로 이루고자 하는 것이 아닐까요?. 가령, 스팸 메일을 제거하기 위해 자동 필터링 시스템을 개발한다면, 스팸 메일 필터가 우. 그래서 우리는 모델을 실제로 사용하는 것이라고 말할 수 있다.. 일부 사람은 모델을 가설이라고 부른다.. 통계학 배경을 가진 사람들에게는 이 용어가 더 직관적입니다. 머신 러닝은 유일한 모델. 기하학 영역에서는 뉴턴의 법칙을 이용하여 물체의 운동을 방정식(방정식의 운동)으로. 人工지능 분야에서 전문가 시스템이라는, 전문가의 지식과 경험을 기반으로 한 문제. 모델은 전문가들 스스로와 같이 잘 작동합니다.그러나 모델링에 대해 법규와 논리적. 가능한 지능 관련 문제는 이미지 인식, 음성 인식, 자연어 처리 등이 있습니다.. 간단한 예를 들어 보죠. 그림 1-3을 보고 숫자를 식별하십시오.'"
      ]
     },
     "execution_count": 22,
     "metadata": {},
     "output_type": "execute_result"
    }
   ],
   "source": [
    "translated_text"
   ]
  },
  {
   "cell_type": "code",
   "execution_count": 23,
   "id": "eab5000e",
   "metadata": {},
   "outputs": [],
   "source": [
    "def smooth_text_with_gpt(text, target_language):\n",
    "    # 텍스트를 문장 또는 단락으로 분할\n",
    "    parts = text.split('. ')\n",
    "    smooth_parts = []\n",
    "\n",
    "    # 각 부분을 번역하고 번역된 결과를 저장\n",
    "    for part in parts:\n",
    "        prompt = f\"{part}를 머신러닝을 처음 베우는 사람이 이해할 수 있도록 문맥을 고쳐주고, 그림은 삭제되었으므로 관련된 말은 모두 없애주세요\"\n",
    "        response = openai.Completion.create(\n",
    "            engine='text-davinci-003',\n",
    "            prompt=prompt,\n",
    "            max_tokens=100,\n",
    "            temperature=0.7,\n",
    "            n=1,\n",
    "            stop=None\n",
    "        )\n",
    "        smooth_part = response.choices[0].text.strip()\n",
    "        smooth_parts.append(smooth_part)\n",
    "\n",
    "    # 번역된 부분을 합쳐 전체 텍스트를 구성\n",
    "    smooth_text = '. '.join(smooth_parts)\n",
    "    return smooth_text\n",
    "\n",
    "smooth_text = smooth_text_with_gpt(translated_text, target_language)"
   ]
  },
  {
   "cell_type": "code",
   "execution_count": 25,
   "id": "37985c7b",
   "metadata": {},
   "outputs": [
    {
     "ename": "SyntaxError",
     "evalue": "invalid syntax (<ipython-input-25-fd55026a8a75>, line 3)",
     "output_type": "error",
     "traceback": [
      "\u001b[1;36m  File \u001b[1;32m\"<ipython-input-25-fd55026a8a75>\"\u001b[1;36m, line \u001b[1;32m3\u001b[0m\n\u001b[1;33m    target_language = 'ko'translated_text = translate_text_with_gpt(text_to_translate, target_language)\u001b[0m\n\u001b[1;37m                          ^\u001b[0m\n\u001b[1;31mSyntaxError\u001b[0m\u001b[1;31m:\u001b[0m invalid syntax\n"
     ]
    }
   ],
   "source": [
    "for i in range(14,160):\n",
    "    text_to_translate = book[i-14]\n",
    "    target_language = 'ko'\n",
    "    translated_text = translate_text_with_gpt(text_to_translate, target_language)\n",
    "    smooth_text = smooth_text_with_gpt(translated_text, target_language)"
   ]
  }
 ],
 "metadata": {
  "kernelspec": {
   "display_name": "Python 3",
   "language": "python",
   "name": "python3"
  },
  "language_info": {
   "codemirror_mode": {
    "name": "ipython",
    "version": 3
   },
   "file_extension": ".py",
   "mimetype": "text/x-python",
   "name": "python",
   "nbconvert_exporter": "python",
   "pygments_lexer": "ipython3",
   "version": "3.8.8"
  }
 },
 "nbformat": 4,
 "nbformat_minor": 5
}
